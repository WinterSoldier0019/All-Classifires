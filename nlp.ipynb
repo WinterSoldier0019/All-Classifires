{
 "nbformat": 4,
 "nbformat_minor": 2,
 "metadata": {
  "language_info": {
   "name": "python",
   "codemirror_mode": {
    "name": "ipython",
    "version": 3
   },
   "version": "3.7.3-final"
  },
  "orig_nbformat": 2,
  "file_extension": ".py",
  "mimetype": "text/x-python",
  "name": "python",
  "npconvert_exporter": "python",
  "pygments_lexer": "ipython3",
  "version": 3,
  "kernelspec": {
   "name": "python37364bitbasecondad1fd223a61424e5fb2bf2a622a9392ea",
   "display_name": "Python 3.7.3 64-bit ('base': conda)"
  }
 },
 "cells": [
  {
   "cell_type": "code",
   "execution_count": 51,
   "metadata": {},
   "outputs": [],
   "source": [
    "import numpy as np\n",
    "import pandas as pd\n",
    "import matplotlib.pyplot as plt"
   ]
  },
  {
   "cell_type": "code",
   "execution_count": 52,
   "metadata": {},
   "outputs": [
    {
     "data": {
      "text/html": "<div>\n<style scoped>\n    .dataframe tbody tr th:only-of-type {\n        vertical-align: middle;\n    }\n\n    .dataframe tbody tr th {\n        vertical-align: top;\n    }\n\n    .dataframe thead th {\n        text-align: right;\n    }\n</style>\n<table border=\"1\" class=\"dataframe\">\n  <thead>\n    <tr style=\"text-align: right;\">\n      <th></th>\n      <th>Review</th>\n      <th>Liked</th>\n    </tr>\n  </thead>\n  <tbody>\n    <tr>\n      <th>0</th>\n      <td>Wow... Loved this place.</td>\n      <td>1</td>\n    </tr>\n    <tr>\n      <th>1</th>\n      <td>Crust is not good.</td>\n      <td>0</td>\n    </tr>\n    <tr>\n      <th>2</th>\n      <td>Not tasty and the texture was just nasty.</td>\n      <td>0</td>\n    </tr>\n    <tr>\n      <th>3</th>\n      <td>Stopped by during the late May bank holiday of...</td>\n      <td>1</td>\n    </tr>\n    <tr>\n      <th>4</th>\n      <td>The selection on the menu was great and so wer...</td>\n      <td>1</td>\n    </tr>\n  </tbody>\n</table>\n</div>",
      "text/plain": "                                              Review  Liked\n0                           Wow... Loved this place.      1\n1                                 Crust is not good.      0\n2          Not tasty and the texture was just nasty.      0\n3  Stopped by during the late May bank holiday of...      1\n4  The selection on the menu was great and so wer...      1"
     },
     "execution_count": 52,
     "metadata": {},
     "output_type": "execute_result"
    }
   ],
   "source": [
    "Data = pd.read_csv(\"Restaurant_Reviews.tsv\", delimiter = \"\\t\", quoting = 3)\n",
    "Data.head()"
   ]
  },
  {
   "cell_type": "code",
   "execution_count": 53,
   "metadata": {},
   "outputs": [
    {
     "data": {
      "text/plain": "(1000, 2)"
     },
     "execution_count": 53,
     "metadata": {},
     "output_type": "execute_result"
    }
   ],
   "source": [
    "Data.shape"
   ]
  },
  {
   "cell_type": "code",
   "execution_count": 54,
   "metadata": {},
   "outputs": [
    {
     "name": "stderr",
     "output_type": "stream",
     "text": "[nltk_data] Downloading package stopwords to\n[nltk_data]     C:\\Users\\Yadav's\\AppData\\Roaming\\nltk_data...\n[nltk_data]   Package stopwords is already up-to-date!\n"
    }
   ],
   "source": [
    "import re\n",
    "import nltk\n",
    "nltk.download(\"stopwords\")\n",
    "from nltk.corpus import stopwords\n",
    "from nltk.stem.porter import PorterStemmer\n",
    "corpus = []"
   ]
  },
  {
   "cell_type": "code",
   "execution_count": 55,
   "metadata": {},
   "outputs": [],
   "source": [
    "for i in range(1000):\n",
    "    review = re.sub(\"[^a-zA-z]\", \" \", Data[\"Review\"][i]).lower().split()\n",
    "    ps = PorterStemmer()\n",
    "    review = [ps.stem(word) for word in review if not word in set(stopwords.words(\"english\"))]\n",
    "    review = \" \".join(review)\n",
    "    corpus.append(review)"
   ]
  },
  {
   "cell_type": "code",
   "execution_count": 56,
   "metadata": {},
   "outputs": [
    {
     "data": {
      "text/html": "<div>\n<style scoped>\n    .dataframe tbody tr th:only-of-type {\n        vertical-align: middle;\n    }\n\n    .dataframe tbody tr th {\n        vertical-align: top;\n    }\n\n    .dataframe thead th {\n        text-align: right;\n    }\n</style>\n<table border=\"1\" class=\"dataframe\">\n  <thead>\n    <tr style=\"text-align: right;\">\n      <th></th>\n      <th>0</th>\n    </tr>\n  </thead>\n  <tbody>\n    <tr>\n      <th>0</th>\n      <td>wow love place</td>\n    </tr>\n    <tr>\n      <th>1</th>\n      <td>crust good</td>\n    </tr>\n    <tr>\n      <th>2</th>\n      <td>tasti textur nasti</td>\n    </tr>\n    <tr>\n      <th>3</th>\n      <td>stop late may bank holiday rick steve recommen...</td>\n    </tr>\n    <tr>\n      <th>4</th>\n      <td>select menu great price</td>\n    </tr>\n    <tr>\n      <th>5</th>\n      <td>get angri want damn pho</td>\n    </tr>\n    <tr>\n      <th>6</th>\n      <td>honeslti tast fresh</td>\n    </tr>\n    <tr>\n      <th>7</th>\n      <td>potato like rubber could tell made ahead time ...</td>\n    </tr>\n    <tr>\n      <th>8</th>\n      <td>fri great</td>\n    </tr>\n    <tr>\n      <th>9</th>\n      <td>great touch</td>\n    </tr>\n    <tr>\n      <th>10</th>\n      <td>servic prompt</td>\n    </tr>\n    <tr>\n      <th>11</th>\n      <td>would go back</td>\n    </tr>\n    <tr>\n      <th>12</th>\n      <td>cashier care ever say still end wayyy overpr</td>\n    </tr>\n    <tr>\n      <th>13</th>\n      <td>tri cape cod ravoli chicken cranberri mmmm</td>\n    </tr>\n    <tr>\n      <th>14</th>\n      <td>disgust pretti sure human hair</td>\n    </tr>\n    <tr>\n      <th>15</th>\n      <td>shock sign indic cash</td>\n    </tr>\n    <tr>\n      <th>16</th>\n      <td>highli recommend</td>\n    </tr>\n    <tr>\n      <th>17</th>\n      <td>waitress littl slow servic</td>\n    </tr>\n    <tr>\n      <th>18</th>\n      <td>place worth time let alon vega</td>\n    </tr>\n    <tr>\n      <th>19</th>\n      <td>like</td>\n    </tr>\n    <tr>\n      <th>20</th>\n      <td>burritto blah</td>\n    </tr>\n    <tr>\n      <th>21</th>\n      <td>food amaz</td>\n    </tr>\n    <tr>\n      <th>22</th>\n      <td>servic also cute</td>\n    </tr>\n    <tr>\n      <th>23</th>\n      <td>could care less interior beauti</td>\n    </tr>\n    <tr>\n      <th>24</th>\n      <td>perform</td>\n    </tr>\n    <tr>\n      <th>25</th>\n      <td>right red velvet cake ohhh stuff good</td>\n    </tr>\n    <tr>\n      <th>26</th>\n      <td>never brought salad ask</td>\n    </tr>\n    <tr>\n      <th>27</th>\n      <td>hole wall great mexican street taco friendli s...</td>\n    </tr>\n    <tr>\n      <th>28</th>\n      <td>took hour get food tabl restaur food luke warm...</td>\n    </tr>\n    <tr>\n      <th>29</th>\n      <td>worst salmon sashimi</td>\n    </tr>\n    <tr>\n      <th>...</th>\n      <td>...</td>\n    </tr>\n    <tr>\n      <th>970</th>\n      <td>immedi said want talk manag want talk guy shot...</td>\n    </tr>\n    <tr>\n      <th>971</th>\n      <td>ambianc much better</td>\n    </tr>\n    <tr>\n      <th>972</th>\n      <td>unfortun set us disapppoint entre</td>\n    </tr>\n    <tr>\n      <th>973</th>\n      <td>food good</td>\n    </tr>\n    <tr>\n      <th>974</th>\n      <td>server suck wait correct server heimer suck</td>\n    </tr>\n    <tr>\n      <th>975</th>\n      <td>happen next pretti put</td>\n    </tr>\n    <tr>\n      <th>976</th>\n      <td>bad caus know famili own realli want like place</td>\n    </tr>\n    <tr>\n      <th>977</th>\n      <td>overpr get</td>\n    </tr>\n    <tr>\n      <th>978</th>\n      <td>vomit bathroom mid lunch</td>\n    </tr>\n    <tr>\n      <th>979</th>\n      <td>kept look time soon becom minut yet still food</td>\n    </tr>\n    <tr>\n      <th>980</th>\n      <td>place eat circumst would ever return top list</td>\n    </tr>\n    <tr>\n      <th>981</th>\n      <td>start tuna sashimi brownish color obvious fresh</td>\n    </tr>\n    <tr>\n      <th>982</th>\n      <td>food averag</td>\n    </tr>\n    <tr>\n      <th>983</th>\n      <td>sure beat nacho movi would expect littl bit co...</td>\n    </tr>\n    <tr>\n      <th>984</th>\n      <td>ha long bay bit flop</td>\n    </tr>\n    <tr>\n      <th>985</th>\n      <td>problem charg sandwich bigger subway sub offer...</td>\n    </tr>\n    <tr>\n      <th>986</th>\n      <td>shrimp unwrap live mile brushfir liter ice cold</td>\n    </tr>\n    <tr>\n      <th>987</th>\n      <td>lack flavor seem undercook dri</td>\n    </tr>\n    <tr>\n      <th>988</th>\n      <td>realli impress place close</td>\n    </tr>\n    <tr>\n      <th>989</th>\n      <td>would avoid place stay mirag</td>\n    </tr>\n    <tr>\n      <th>990</th>\n      <td>refri bean came meal dri crusti food bland</td>\n    </tr>\n    <tr>\n      <th>991</th>\n      <td>spend money time place els</td>\n    </tr>\n    <tr>\n      <th>992</th>\n      <td>ladi tabl next us found live green caterpillar...</td>\n    </tr>\n    <tr>\n      <th>993</th>\n      <td>present food aw</td>\n    </tr>\n    <tr>\n      <th>994</th>\n      <td>tell disappoint</td>\n    </tr>\n    <tr>\n      <th>995</th>\n      <td>think food flavor textur lack</td>\n    </tr>\n    <tr>\n      <th>996</th>\n      <td>appetit instantli gone</td>\n    </tr>\n    <tr>\n      <th>997</th>\n      <td>overal impress would go back</td>\n    </tr>\n    <tr>\n      <th>998</th>\n      <td>whole experi underwhelm think go ninja sushi n...</td>\n    </tr>\n    <tr>\n      <th>999</th>\n      <td>wast enough life pour salt wound draw time too...</td>\n    </tr>\n  </tbody>\n</table>\n<p>1000 rows × 1 columns</p>\n</div>",
      "text/plain": "                                                     0\n0                                       wow love place\n1                                           crust good\n2                                   tasti textur nasti\n3    stop late may bank holiday rick steve recommen...\n4                              select menu great price\n5                              get angri want damn pho\n6                                  honeslti tast fresh\n7    potato like rubber could tell made ahead time ...\n8                                            fri great\n9                                          great touch\n10                                       servic prompt\n11                                       would go back\n12        cashier care ever say still end wayyy overpr\n13          tri cape cod ravoli chicken cranberri mmmm\n14                      disgust pretti sure human hair\n15                               shock sign indic cash\n16                                    highli recommend\n17                          waitress littl slow servic\n18                      place worth time let alon vega\n19                                                like\n20                                       burritto blah\n21                                           food amaz\n22                                    servic also cute\n23                     could care less interior beauti\n24                                             perform\n25               right red velvet cake ohhh stuff good\n26                             never brought salad ask\n27   hole wall great mexican street taco friendli s...\n28   took hour get food tabl restaur food luke warm...\n29                                worst salmon sashimi\n..                                                 ...\n970  immedi said want talk manag want talk guy shot...\n971                                ambianc much better\n972                  unfortun set us disapppoint entre\n973                                          food good\n974        server suck wait correct server heimer suck\n975                             happen next pretti put\n976    bad caus know famili own realli want like place\n977                                         overpr get\n978                           vomit bathroom mid lunch\n979     kept look time soon becom minut yet still food\n980      place eat circumst would ever return top list\n981    start tuna sashimi brownish color obvious fresh\n982                                        food averag\n983  sure beat nacho movi would expect littl bit co...\n984                               ha long bay bit flop\n985  problem charg sandwich bigger subway sub offer...\n986    shrimp unwrap live mile brushfir liter ice cold\n987                     lack flavor seem undercook dri\n988                         realli impress place close\n989                       would avoid place stay mirag\n990         refri bean came meal dri crusti food bland\n991                         spend money time place els\n992  ladi tabl next us found live green caterpillar...\n993                                    present food aw\n994                                    tell disappoint\n995                      think food flavor textur lack\n996                             appetit instantli gone\n997                       overal impress would go back\n998  whole experi underwhelm think go ninja sushi n...\n999  wast enough life pour salt wound draw time too...\n\n[1000 rows x 1 columns]"
     },
     "execution_count": 56,
     "metadata": {},
     "output_type": "execute_result"
    }
   ],
   "source": [
    "data = pd.DataFrame(corpus)\n",
    "data"
   ]
  },
  {
   "cell_type": "code",
   "execution_count": 57,
   "metadata": {},
   "outputs": [],
   "source": [
    "from sklearn.feature_extraction.text import CountVectorizer\n",
    "cv = CountVectorizer()\n",
    "X = cv.fit_transform(corpus).toarray()"
   ]
  },
  {
   "cell_type": "code",
   "execution_count": 58,
   "metadata": {},
   "outputs": [
    {
     "data": {
      "text/plain": "array([[0, 0, 0, ..., 0, 0, 0],\n       [0, 0, 0, ..., 0, 0, 0],\n       [0, 0, 0, ..., 0, 0, 0],\n       ...,\n       [0, 0, 0, ..., 0, 0, 0],\n       [0, 0, 0, ..., 0, 0, 0],\n       [0, 0, 0, ..., 0, 0, 0]], dtype=int64)"
     },
     "execution_count": 58,
     "metadata": {},
     "output_type": "execute_result"
    }
   ],
   "source": [
    "X"
   ]
  },
  {
   "cell_type": "code",
   "execution_count": 61,
   "metadata": {},
   "outputs": [],
   "source": [
    "Y = Data.iloc[:, -1].values"
   ]
  },
  {
   "cell_type": "code",
   "execution_count": 62,
   "metadata": {},
   "outputs": [
    {
     "data": {
      "text/plain": "array([[-0.09529814, -0.0316386 , -0.0316386 , ..., -0.0316386 ,\n        -0.06337243, -0.05986843],\n       [-0.09529814, -0.0316386 , -0.0316386 , ..., -0.0316386 ,\n        -0.06337243, -0.05986843],\n       [-0.09529814, -0.0316386 , -0.0316386 , ..., -0.0316386 ,\n        -0.06337243, -0.05986843],\n       ...,\n       [-0.09529814, -0.0316386 , -0.0316386 , ..., -0.0316386 ,\n        -0.06337243, -0.05986843],\n       [-0.09529814, -0.0316386 , -0.0316386 , ..., -0.0316386 ,\n        -0.06337243, -0.05986843],\n       [-0.09529814, -0.0316386 , -0.0316386 , ..., -0.0316386 ,\n        -0.06337243, -0.05986843]])"
     },
     "execution_count": 62,
     "metadata": {},
     "output_type": "execute_result"
    }
   ],
   "source": [
    "from sklearn.preprocessing import StandardScaler\n",
    "scaler = StandardScaler()\n",
    "X = scaler.fit_transform(X)\n",
    "X"
   ]
  },
  {
   "cell_type": "code",
   "execution_count": 63,
   "metadata": {},
   "outputs": [],
   "source": [
    "from sklearn.model_selection import train_test_split\n",
    "x_train, x_test, y_train, y_test = train_test_split(X, Y, random_state = 42, test_size = 0.2)"
   ]
  },
  {
   "cell_type": "code",
   "execution_count": 77,
   "metadata": {},
   "outputs": [
    {
     "data": {
      "text/plain": "KNeighborsClassifier(algorithm='auto', leaf_size=30, metric='minkowski',\n           metric_params=None, n_jobs=None, n_neighbors=5, p=2,\n           weights='uniform')"
     },
     "execution_count": 77,
     "metadata": {},
     "output_type": "execute_result"
    }
   ],
   "source": [
    "from sklearn.neighbors import KNeighborsClassifier\n",
    "Classifier = KNeighborsClassifier()\n",
    "Classifier.fit(x_train,y_train)"
   ]
  },
  {
   "cell_type": "code",
   "execution_count": 78,
   "metadata": {},
   "outputs": [
    {
     "data": {
      "text/plain": "0.865"
     },
     "execution_count": 78,
     "metadata": {},
     "output_type": "execute_result"
    }
   ],
   "source": [
    "Classifier.score(x_train, y_train)"
   ]
  },
  {
   "cell_type": "code",
   "execution_count": 79,
   "metadata": {},
   "outputs": [],
   "source": [
    "y_pred = Classifier.predict(x_test)"
   ]
  },
  {
   "cell_type": "code",
   "execution_count": 80,
   "metadata": {},
   "outputs": [
    {
     "data": {
      "text/plain": "array([[63, 33],\n       [49, 55]], dtype=int64)"
     },
     "execution_count": 80,
     "metadata": {},
     "output_type": "execute_result"
    }
   ],
   "source": [
    "from sklearn.metrics import confusion_matrix as CM \n",
    "cm = CM(y_test, y_pred)\n",
    "cm"
   ]
  },
  {
   "cell_type": "code",
   "execution_count": 81,
   "metadata": {},
   "outputs": [
    {
     "name": "stdout",
     "output_type": "stream",
     "text": "0.59\n"
    }
   ],
   "source": [
    "print((63 +  55)/(63 + 55 + 33 + 49))"
   ]
  },
  {
   "cell_type": "code",
   "execution_count": 82,
   "metadata": {},
   "outputs": [
    {
     "data": {
      "text/plain": "0.59"
     },
     "execution_count": 82,
     "metadata": {},
     "output_type": "execute_result"
    }
   ],
   "source": [
    "Classifier.score(x_test, y_test)"
   ]
  },
  {
   "cell_type": "code",
   "execution_count": null,
   "metadata": {},
   "outputs": [],
   "source": []
  }
 ]
}