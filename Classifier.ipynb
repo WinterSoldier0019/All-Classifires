{
 "nbformat": 4,
 "nbformat_minor": 2,
 "metadata": {
  "language_info": {
   "name": "python",
   "codemirror_mode": {
    "name": "ipython",
    "version": 3
   },
   "version": "3.7.3-final"
  },
  "orig_nbformat": 2,
  "file_extension": ".py",
  "mimetype": "text/x-python",
  "name": "python",
  "npconvert_exporter": "python",
  "pygments_lexer": "ipython3",
  "version": 3,
  "kernelspec": {
   "name": "python37364bitbasecondad1fd223a61424e5fb2bf2a622a9392ea",
   "display_name": "Python 3.7.3 64-bit ('base': conda)"
  }
 },
 "cells": [
  {
   "cell_type": "markdown",
   "metadata": {},
   "source": [
    "Importing the Header Files"
   ]
  },
  {
   "cell_type": "code",
   "execution_count": 28,
   "metadata": {},
   "outputs": [],
   "source": [
    "import numpy as np\n",
    "import pandas as pd\n",
    "import matplotlib.pyplot as plt\n",
    "import seaborn as sns\n",
    "sns.set()"
   ]
  },
  {
   "cell_type": "code",
   "execution_count": 29,
   "metadata": {},
   "outputs": [],
   "source": [
    "Data = pd.read_csv(\"Churn_Modelling.csv\")"
   ]
  },
  {
   "cell_type": "code",
   "execution_count": 30,
   "metadata": {},
   "outputs": [
    {
     "data": {
      "text/html": "<div>\n<style scoped>\n    .dataframe tbody tr th:only-of-type {\n        vertical-align: middle;\n    }\n\n    .dataframe tbody tr th {\n        vertical-align: top;\n    }\n\n    .dataframe thead th {\n        text-align: right;\n    }\n</style>\n<table border=\"1\" class=\"dataframe\">\n  <thead>\n    <tr style=\"text-align: right;\">\n      <th></th>\n      <th>RowNumber</th>\n      <th>CustomerId</th>\n      <th>Surname</th>\n      <th>CreditScore</th>\n      <th>Geography</th>\n      <th>Gender</th>\n      <th>Age</th>\n      <th>Tenure</th>\n      <th>Balance</th>\n      <th>NumOfProducts</th>\n      <th>HasCrCard</th>\n      <th>IsActiveMember</th>\n      <th>EstimatedSalary</th>\n      <th>Exited</th>\n    </tr>\n  </thead>\n  <tbody>\n    <tr>\n      <th>0</th>\n      <td>1</td>\n      <td>15634602</td>\n      <td>Hargrave</td>\n      <td>619</td>\n      <td>France</td>\n      <td>Female</td>\n      <td>42</td>\n      <td>2</td>\n      <td>0.00</td>\n      <td>1</td>\n      <td>1</td>\n      <td>1</td>\n      <td>101348.88</td>\n      <td>1</td>\n    </tr>\n    <tr>\n      <th>1</th>\n      <td>2</td>\n      <td>15647311</td>\n      <td>Hill</td>\n      <td>608</td>\n      <td>Spain</td>\n      <td>Female</td>\n      <td>41</td>\n      <td>1</td>\n      <td>83807.86</td>\n      <td>1</td>\n      <td>0</td>\n      <td>1</td>\n      <td>112542.58</td>\n      <td>0</td>\n    </tr>\n    <tr>\n      <th>2</th>\n      <td>3</td>\n      <td>15619304</td>\n      <td>Onio</td>\n      <td>502</td>\n      <td>France</td>\n      <td>Female</td>\n      <td>42</td>\n      <td>8</td>\n      <td>159660.80</td>\n      <td>3</td>\n      <td>1</td>\n      <td>0</td>\n      <td>113931.57</td>\n      <td>1</td>\n    </tr>\n    <tr>\n      <th>3</th>\n      <td>4</td>\n      <td>15701354</td>\n      <td>Boni</td>\n      <td>699</td>\n      <td>France</td>\n      <td>Female</td>\n      <td>39</td>\n      <td>1</td>\n      <td>0.00</td>\n      <td>2</td>\n      <td>0</td>\n      <td>0</td>\n      <td>93826.63</td>\n      <td>0</td>\n    </tr>\n    <tr>\n      <th>4</th>\n      <td>5</td>\n      <td>15737888</td>\n      <td>Mitchell</td>\n      <td>850</td>\n      <td>Spain</td>\n      <td>Female</td>\n      <td>43</td>\n      <td>2</td>\n      <td>125510.82</td>\n      <td>1</td>\n      <td>1</td>\n      <td>1</td>\n      <td>79084.10</td>\n      <td>0</td>\n    </tr>\n  </tbody>\n</table>\n</div>",
      "text/plain": "   RowNumber  CustomerId   Surname  CreditScore Geography  Gender  Age  \\\n0          1    15634602  Hargrave          619    France  Female   42   \n1          2    15647311      Hill          608     Spain  Female   41   \n2          3    15619304      Onio          502    France  Female   42   \n3          4    15701354      Boni          699    France  Female   39   \n4          5    15737888  Mitchell          850     Spain  Female   43   \n\n   Tenure    Balance  NumOfProducts  HasCrCard  IsActiveMember  \\\n0       2       0.00              1          1               1   \n1       1   83807.86              1          0               1   \n2       8  159660.80              3          1               0   \n3       1       0.00              2          0               0   \n4       2  125510.82              1          1               1   \n\n   EstimatedSalary  Exited  \n0        101348.88       1  \n1        112542.58       0  \n2        113931.57       1  \n3         93826.63       0  \n4         79084.10       0  "
     },
     "execution_count": 30,
     "metadata": {},
     "output_type": "execute_result"
    }
   ],
   "source": [
    "Data.head(n=5)"
   ]
  },
  {
   "cell_type": "code",
   "execution_count": 31,
   "metadata": {},
   "outputs": [
    {
     "data": {
      "text/plain": "(10000, 14)"
     },
     "execution_count": 31,
     "metadata": {},
     "output_type": "execute_result"
    }
   ],
   "source": [
    "Data.shape"
   ]
  },
  {
   "cell_type": "code",
   "execution_count": 32,
   "metadata": {},
   "outputs": [
    {
     "data": {
      "text/html": "<div>\n<style scoped>\n    .dataframe tbody tr th:only-of-type {\n        vertical-align: middle;\n    }\n\n    .dataframe tbody tr th {\n        vertical-align: top;\n    }\n\n    .dataframe thead th {\n        text-align: right;\n    }\n</style>\n<table border=\"1\" class=\"dataframe\">\n  <thead>\n    <tr style=\"text-align: right;\">\n      <th></th>\n      <th>RowNumber</th>\n      <th>CustomerId</th>\n      <th>Surname</th>\n      <th>CreditScore</th>\n      <th>Geography</th>\n      <th>Gender</th>\n      <th>Age</th>\n      <th>Tenure</th>\n      <th>Balance</th>\n      <th>NumOfProducts</th>\n      <th>HasCrCard</th>\n      <th>IsActiveMember</th>\n      <th>EstimatedSalary</th>\n      <th>Exited</th>\n    </tr>\n  </thead>\n  <tbody>\n    <tr>\n      <th>count</th>\n      <td>10000.00000</td>\n      <td>1.000000e+04</td>\n      <td>10000</td>\n      <td>10000.000000</td>\n      <td>10000</td>\n      <td>10000</td>\n      <td>10000.000000</td>\n      <td>10000.000000</td>\n      <td>10000.000000</td>\n      <td>10000.000000</td>\n      <td>10000.00000</td>\n      <td>10000.000000</td>\n      <td>10000.000000</td>\n      <td>10000.000000</td>\n    </tr>\n    <tr>\n      <th>unique</th>\n      <td>NaN</td>\n      <td>NaN</td>\n      <td>2932</td>\n      <td>NaN</td>\n      <td>3</td>\n      <td>2</td>\n      <td>NaN</td>\n      <td>NaN</td>\n      <td>NaN</td>\n      <td>NaN</td>\n      <td>NaN</td>\n      <td>NaN</td>\n      <td>NaN</td>\n      <td>NaN</td>\n    </tr>\n    <tr>\n      <th>top</th>\n      <td>NaN</td>\n      <td>NaN</td>\n      <td>Smith</td>\n      <td>NaN</td>\n      <td>France</td>\n      <td>Male</td>\n      <td>NaN</td>\n      <td>NaN</td>\n      <td>NaN</td>\n      <td>NaN</td>\n      <td>NaN</td>\n      <td>NaN</td>\n      <td>NaN</td>\n      <td>NaN</td>\n    </tr>\n    <tr>\n      <th>freq</th>\n      <td>NaN</td>\n      <td>NaN</td>\n      <td>32</td>\n      <td>NaN</td>\n      <td>5014</td>\n      <td>5457</td>\n      <td>NaN</td>\n      <td>NaN</td>\n      <td>NaN</td>\n      <td>NaN</td>\n      <td>NaN</td>\n      <td>NaN</td>\n      <td>NaN</td>\n      <td>NaN</td>\n    </tr>\n    <tr>\n      <th>mean</th>\n      <td>5000.50000</td>\n      <td>1.569094e+07</td>\n      <td>NaN</td>\n      <td>650.528800</td>\n      <td>NaN</td>\n      <td>NaN</td>\n      <td>38.921800</td>\n      <td>5.012800</td>\n      <td>76485.889288</td>\n      <td>1.530200</td>\n      <td>0.70550</td>\n      <td>0.515100</td>\n      <td>100090.239881</td>\n      <td>0.203700</td>\n    </tr>\n    <tr>\n      <th>std</th>\n      <td>2886.89568</td>\n      <td>7.193619e+04</td>\n      <td>NaN</td>\n      <td>96.653299</td>\n      <td>NaN</td>\n      <td>NaN</td>\n      <td>10.487806</td>\n      <td>2.892174</td>\n      <td>62397.405202</td>\n      <td>0.581654</td>\n      <td>0.45584</td>\n      <td>0.499797</td>\n      <td>57510.492818</td>\n      <td>0.402769</td>\n    </tr>\n    <tr>\n      <th>min</th>\n      <td>1.00000</td>\n      <td>1.556570e+07</td>\n      <td>NaN</td>\n      <td>350.000000</td>\n      <td>NaN</td>\n      <td>NaN</td>\n      <td>18.000000</td>\n      <td>0.000000</td>\n      <td>0.000000</td>\n      <td>1.000000</td>\n      <td>0.00000</td>\n      <td>0.000000</td>\n      <td>11.580000</td>\n      <td>0.000000</td>\n    </tr>\n    <tr>\n      <th>25%</th>\n      <td>2500.75000</td>\n      <td>1.562853e+07</td>\n      <td>NaN</td>\n      <td>584.000000</td>\n      <td>NaN</td>\n      <td>NaN</td>\n      <td>32.000000</td>\n      <td>3.000000</td>\n      <td>0.000000</td>\n      <td>1.000000</td>\n      <td>0.00000</td>\n      <td>0.000000</td>\n      <td>51002.110000</td>\n      <td>0.000000</td>\n    </tr>\n    <tr>\n      <th>50%</th>\n      <td>5000.50000</td>\n      <td>1.569074e+07</td>\n      <td>NaN</td>\n      <td>652.000000</td>\n      <td>NaN</td>\n      <td>NaN</td>\n      <td>37.000000</td>\n      <td>5.000000</td>\n      <td>97198.540000</td>\n      <td>1.000000</td>\n      <td>1.00000</td>\n      <td>1.000000</td>\n      <td>100193.915000</td>\n      <td>0.000000</td>\n    </tr>\n    <tr>\n      <th>75%</th>\n      <td>7500.25000</td>\n      <td>1.575323e+07</td>\n      <td>NaN</td>\n      <td>718.000000</td>\n      <td>NaN</td>\n      <td>NaN</td>\n      <td>44.000000</td>\n      <td>7.000000</td>\n      <td>127644.240000</td>\n      <td>2.000000</td>\n      <td>1.00000</td>\n      <td>1.000000</td>\n      <td>149388.247500</td>\n      <td>0.000000</td>\n    </tr>\n    <tr>\n      <th>max</th>\n      <td>10000.00000</td>\n      <td>1.581569e+07</td>\n      <td>NaN</td>\n      <td>850.000000</td>\n      <td>NaN</td>\n      <td>NaN</td>\n      <td>92.000000</td>\n      <td>10.000000</td>\n      <td>250898.090000</td>\n      <td>4.000000</td>\n      <td>1.00000</td>\n      <td>1.000000</td>\n      <td>199992.480000</td>\n      <td>1.000000</td>\n    </tr>\n  </tbody>\n</table>\n</div>",
      "text/plain": "          RowNumber    CustomerId Surname   CreditScore Geography Gender  \\\ncount   10000.00000  1.000000e+04   10000  10000.000000     10000  10000   \nunique          NaN           NaN    2932           NaN         3      2   \ntop             NaN           NaN   Smith           NaN    France   Male   \nfreq            NaN           NaN      32           NaN      5014   5457   \nmean     5000.50000  1.569094e+07     NaN    650.528800       NaN    NaN   \nstd      2886.89568  7.193619e+04     NaN     96.653299       NaN    NaN   \nmin         1.00000  1.556570e+07     NaN    350.000000       NaN    NaN   \n25%      2500.75000  1.562853e+07     NaN    584.000000       NaN    NaN   \n50%      5000.50000  1.569074e+07     NaN    652.000000       NaN    NaN   \n75%      7500.25000  1.575323e+07     NaN    718.000000       NaN    NaN   \nmax     10000.00000  1.581569e+07     NaN    850.000000       NaN    NaN   \n\n                 Age        Tenure        Balance  NumOfProducts    HasCrCard  \\\ncount   10000.000000  10000.000000   10000.000000   10000.000000  10000.00000   \nunique           NaN           NaN            NaN            NaN          NaN   \ntop              NaN           NaN            NaN            NaN          NaN   \nfreq             NaN           NaN            NaN            NaN          NaN   \nmean       38.921800      5.012800   76485.889288       1.530200      0.70550   \nstd        10.487806      2.892174   62397.405202       0.581654      0.45584   \nmin        18.000000      0.000000       0.000000       1.000000      0.00000   \n25%        32.000000      3.000000       0.000000       1.000000      0.00000   \n50%        37.000000      5.000000   97198.540000       1.000000      1.00000   \n75%        44.000000      7.000000  127644.240000       2.000000      1.00000   \nmax        92.000000     10.000000  250898.090000       4.000000      1.00000   \n\n        IsActiveMember  EstimatedSalary        Exited  \ncount     10000.000000     10000.000000  10000.000000  \nunique             NaN              NaN           NaN  \ntop                NaN              NaN           NaN  \nfreq               NaN              NaN           NaN  \nmean          0.515100    100090.239881      0.203700  \nstd           0.499797     57510.492818      0.402769  \nmin           0.000000        11.580000      0.000000  \n25%           0.000000     51002.110000      0.000000  \n50%           1.000000    100193.915000      0.000000  \n75%           1.000000    149388.247500      0.000000  \nmax           1.000000    199992.480000      1.000000  "
     },
     "execution_count": 32,
     "metadata": {},
     "output_type": "execute_result"
    }
   ],
   "source": [
    "Data.describe(include = \"all\")"
   ]
  },
  {
   "cell_type": "code",
   "execution_count": 33,
   "metadata": {},
   "outputs": [
    {
     "data": {
      "text/html": "<div>\n<style scoped>\n    .dataframe tbody tr th:only-of-type {\n        vertical-align: middle;\n    }\n\n    .dataframe tbody tr th {\n        vertical-align: top;\n    }\n\n    .dataframe thead th {\n        text-align: right;\n    }\n</style>\n<table border=\"1\" class=\"dataframe\">\n  <thead>\n    <tr style=\"text-align: right;\">\n      <th></th>\n      <th>CreditScore</th>\n      <th>Geography</th>\n      <th>Gender</th>\n      <th>Age</th>\n      <th>Tenure</th>\n      <th>Balance</th>\n      <th>NumOfProducts</th>\n      <th>HasCrCard</th>\n      <th>IsActiveMember</th>\n      <th>EstimatedSalary</th>\n      <th>Exited</th>\n    </tr>\n  </thead>\n  <tbody>\n    <tr>\n      <th>0</th>\n      <td>619</td>\n      <td>France</td>\n      <td>Female</td>\n      <td>42</td>\n      <td>2</td>\n      <td>0.00</td>\n      <td>1</td>\n      <td>1</td>\n      <td>1</td>\n      <td>101348.88</td>\n      <td>1</td>\n    </tr>\n    <tr>\n      <th>1</th>\n      <td>608</td>\n      <td>Spain</td>\n      <td>Female</td>\n      <td>41</td>\n      <td>1</td>\n      <td>83807.86</td>\n      <td>1</td>\n      <td>0</td>\n      <td>1</td>\n      <td>112542.58</td>\n      <td>0</td>\n    </tr>\n    <tr>\n      <th>2</th>\n      <td>502</td>\n      <td>France</td>\n      <td>Female</td>\n      <td>42</td>\n      <td>8</td>\n      <td>159660.80</td>\n      <td>3</td>\n      <td>1</td>\n      <td>0</td>\n      <td>113931.57</td>\n      <td>1</td>\n    </tr>\n    <tr>\n      <th>3</th>\n      <td>699</td>\n      <td>France</td>\n      <td>Female</td>\n      <td>39</td>\n      <td>1</td>\n      <td>0.00</td>\n      <td>2</td>\n      <td>0</td>\n      <td>0</td>\n      <td>93826.63</td>\n      <td>0</td>\n    </tr>\n    <tr>\n      <th>4</th>\n      <td>850</td>\n      <td>Spain</td>\n      <td>Female</td>\n      <td>43</td>\n      <td>2</td>\n      <td>125510.82</td>\n      <td>1</td>\n      <td>1</td>\n      <td>1</td>\n      <td>79084.10</td>\n      <td>0</td>\n    </tr>\n  </tbody>\n</table>\n</div>",
      "text/plain": "   CreditScore Geography  Gender  Age  Tenure    Balance  NumOfProducts  \\\n0          619    France  Female   42       2       0.00              1   \n1          608     Spain  Female   41       1   83807.86              1   \n2          502    France  Female   42       8  159660.80              3   \n3          699    France  Female   39       1       0.00              2   \n4          850     Spain  Female   43       2  125510.82              1   \n\n   HasCrCard  IsActiveMember  EstimatedSalary  Exited  \n0          1               1        101348.88       1  \n1          0               1        112542.58       0  \n2          1               0        113931.57       1  \n3          0               0         93826.63       0  \n4          1               1         79084.10       0  "
     },
     "execution_count": 33,
     "metadata": {},
     "output_type": "execute_result"
    }
   ],
   "source": [
    "Data = Data.drop(labels=[\"RowNumber\", \"CustomerId\", \"Surname\"],axis = 1)\n",
    "Data.head()"
   ]
  },
  {
   "cell_type": "code",
   "execution_count": 34,
   "metadata": {},
   "outputs": [],
   "source": [
    "from sklearn.preprocessing import LabelEncoder as LL"
   ]
  },
  {
   "cell_type": "code",
   "execution_count": 35,
   "metadata": {},
   "outputs": [],
   "source": [
    "le1 = LL()\n",
    "le2 = LL()"
   ]
  },
  {
   "cell_type": "code",
   "execution_count": 36,
   "metadata": {},
   "outputs": [],
   "source": [
    "Data[\"Gender\"] = le1.fit_transform(Data[\"Gender\"])"
   ]
  },
  {
   "cell_type": "code",
   "execution_count": 38,
   "metadata": {},
   "outputs": [
    {
     "data": {
      "text/html": "<div>\n<style scoped>\n    .dataframe tbody tr th:only-of-type {\n        vertical-align: middle;\n    }\n\n    .dataframe tbody tr th {\n        vertical-align: top;\n    }\n\n    .dataframe thead th {\n        text-align: right;\n    }\n</style>\n<table border=\"1\" class=\"dataframe\">\n  <thead>\n    <tr style=\"text-align: right;\">\n      <th></th>\n      <th>CreditScore</th>\n      <th>Geography</th>\n      <th>Gender</th>\n      <th>Age</th>\n      <th>Tenure</th>\n      <th>Balance</th>\n      <th>NumOfProducts</th>\n      <th>HasCrCard</th>\n      <th>IsActiveMember</th>\n      <th>EstimatedSalary</th>\n      <th>Exited</th>\n    </tr>\n  </thead>\n  <tbody>\n    <tr>\n      <th>0</th>\n      <td>619</td>\n      <td>France</td>\n      <td>0</td>\n      <td>42</td>\n      <td>2</td>\n      <td>0.00</td>\n      <td>1</td>\n      <td>1</td>\n      <td>1</td>\n      <td>101348.88</td>\n      <td>1</td>\n    </tr>\n    <tr>\n      <th>1</th>\n      <td>608</td>\n      <td>Spain</td>\n      <td>0</td>\n      <td>41</td>\n      <td>1</td>\n      <td>83807.86</td>\n      <td>1</td>\n      <td>0</td>\n      <td>1</td>\n      <td>112542.58</td>\n      <td>0</td>\n    </tr>\n    <tr>\n      <th>2</th>\n      <td>502</td>\n      <td>France</td>\n      <td>0</td>\n      <td>42</td>\n      <td>8</td>\n      <td>159660.80</td>\n      <td>3</td>\n      <td>1</td>\n      <td>0</td>\n      <td>113931.57</td>\n      <td>1</td>\n    </tr>\n    <tr>\n      <th>3</th>\n      <td>699</td>\n      <td>France</td>\n      <td>0</td>\n      <td>39</td>\n      <td>1</td>\n      <td>0.00</td>\n      <td>2</td>\n      <td>0</td>\n      <td>0</td>\n      <td>93826.63</td>\n      <td>0</td>\n    </tr>\n    <tr>\n      <th>4</th>\n      <td>850</td>\n      <td>Spain</td>\n      <td>0</td>\n      <td>43</td>\n      <td>2</td>\n      <td>125510.82</td>\n      <td>1</td>\n      <td>1</td>\n      <td>1</td>\n      <td>79084.10</td>\n      <td>0</td>\n    </tr>\n  </tbody>\n</table>\n</div>",
      "text/plain": "   CreditScore Geography  Gender  Age  Tenure    Balance  NumOfProducts  \\\n0          619    France       0   42       2       0.00              1   \n1          608     Spain       0   41       1   83807.86              1   \n2          502    France       0   42       8  159660.80              3   \n3          699    France       0   39       1       0.00              2   \n4          850     Spain       0   43       2  125510.82              1   \n\n   HasCrCard  IsActiveMember  EstimatedSalary  Exited  \n0          1               1        101348.88       1  \n1          0               1        112542.58       0  \n2          1               0        113931.57       1  \n3          0               0         93826.63       0  \n4          1               1         79084.10       0  "
     },
     "execution_count": 38,
     "metadata": {},
     "output_type": "execute_result"
    }
   ],
   "source": [
    "Data.head()"
   ]
  },
  {
   "cell_type": "code",
   "execution_count": 39,
   "metadata": {},
   "outputs": [
    {
     "data": {
      "text/html": "<div>\n<style scoped>\n    .dataframe tbody tr th:only-of-type {\n        vertical-align: middle;\n    }\n\n    .dataframe tbody tr th {\n        vertical-align: top;\n    }\n\n    .dataframe thead th {\n        text-align: right;\n    }\n</style>\n<table border=\"1\" class=\"dataframe\">\n  <thead>\n    <tr style=\"text-align: right;\">\n      <th></th>\n      <th>CreditScore</th>\n      <th>Geography</th>\n      <th>Gender</th>\n      <th>Age</th>\n      <th>Tenure</th>\n      <th>Balance</th>\n      <th>NumOfProducts</th>\n      <th>HasCrCard</th>\n      <th>IsActiveMember</th>\n      <th>EstimatedSalary</th>\n      <th>Exited</th>\n    </tr>\n  </thead>\n  <tbody>\n    <tr>\n      <th>0</th>\n      <td>619</td>\n      <td>0</td>\n      <td>0</td>\n      <td>42</td>\n      <td>2</td>\n      <td>0.00</td>\n      <td>1</td>\n      <td>1</td>\n      <td>1</td>\n      <td>101348.88</td>\n      <td>1</td>\n    </tr>\n    <tr>\n      <th>1</th>\n      <td>608</td>\n      <td>2</td>\n      <td>0</td>\n      <td>41</td>\n      <td>1</td>\n      <td>83807.86</td>\n      <td>1</td>\n      <td>0</td>\n      <td>1</td>\n      <td>112542.58</td>\n      <td>0</td>\n    </tr>\n    <tr>\n      <th>2</th>\n      <td>502</td>\n      <td>0</td>\n      <td>0</td>\n      <td>42</td>\n      <td>8</td>\n      <td>159660.80</td>\n      <td>3</td>\n      <td>1</td>\n      <td>0</td>\n      <td>113931.57</td>\n      <td>1</td>\n    </tr>\n    <tr>\n      <th>3</th>\n      <td>699</td>\n      <td>0</td>\n      <td>0</td>\n      <td>39</td>\n      <td>1</td>\n      <td>0.00</td>\n      <td>2</td>\n      <td>0</td>\n      <td>0</td>\n      <td>93826.63</td>\n      <td>0</td>\n    </tr>\n    <tr>\n      <th>4</th>\n      <td>850</td>\n      <td>2</td>\n      <td>0</td>\n      <td>43</td>\n      <td>2</td>\n      <td>125510.82</td>\n      <td>1</td>\n      <td>1</td>\n      <td>1</td>\n      <td>79084.10</td>\n      <td>0</td>\n    </tr>\n  </tbody>\n</table>\n</div>",
      "text/plain": "   CreditScore  Geography  Gender  Age  Tenure    Balance  NumOfProducts  \\\n0          619          0       0   42       2       0.00              1   \n1          608          2       0   41       1   83807.86              1   \n2          502          0       0   42       8  159660.80              3   \n3          699          0       0   39       1       0.00              2   \n4          850          2       0   43       2  125510.82              1   \n\n   HasCrCard  IsActiveMember  EstimatedSalary  Exited  \n0          1               1        101348.88       1  \n1          0               1        112542.58       0  \n2          1               0        113931.57       1  \n3          0               0         93826.63       0  \n4          1               1         79084.10       0  "
     },
     "execution_count": 39,
     "metadata": {},
     "output_type": "execute_result"
    }
   ],
   "source": [
    "Data[\"Geography\"] = le2.fit_transform(Data[\"Geography\"])\n",
    "Data.head()"
   ]
  },
  {
   "cell_type": "code",
   "execution_count": 40,
   "metadata": {},
   "outputs": [],
   "source": [
    "from sklearn.preprocessing import OneHotEncoder as OHE"
   ]
  },
  {
   "cell_type": "code",
   "execution_count": 52,
   "metadata": {},
   "outputs": [],
   "source": [
    "x = Data.iloc[:, 0:10]\n",
    "y = Data.iloc[:, -1]"
   ]
  },
  {
   "cell_type": "code",
   "execution_count": 57,
   "metadata": {},
   "outputs": [
    {
     "data": {
      "text/html": "<div>\n<style scoped>\n    .dataframe tbody tr th:only-of-type {\n        vertical-align: middle;\n    }\n\n    .dataframe tbody tr th {\n        vertical-align: top;\n    }\n\n    .dataframe thead th {\n        text-align: right;\n    }\n</style>\n<table border=\"1\" class=\"dataframe\">\n  <thead>\n    <tr style=\"text-align: right;\">\n      <th></th>\n      <th>CreditScore</th>\n      <th>Geography</th>\n      <th>Gender</th>\n      <th>Age</th>\n      <th>Tenure</th>\n      <th>Balance</th>\n      <th>NumOfProducts</th>\n      <th>HasCrCard</th>\n      <th>IsActiveMember</th>\n      <th>EstimatedSalary</th>\n    </tr>\n  </thead>\n  <tbody>\n    <tr>\n      <th>0</th>\n      <td>619</td>\n      <td>0</td>\n      <td>0</td>\n      <td>42</td>\n      <td>2</td>\n      <td>0.00</td>\n      <td>1</td>\n      <td>1</td>\n      <td>1</td>\n      <td>101348.88</td>\n    </tr>\n    <tr>\n      <th>1</th>\n      <td>608</td>\n      <td>2</td>\n      <td>0</td>\n      <td>41</td>\n      <td>1</td>\n      <td>83807.86</td>\n      <td>1</td>\n      <td>0</td>\n      <td>1</td>\n      <td>112542.58</td>\n    </tr>\n    <tr>\n      <th>2</th>\n      <td>502</td>\n      <td>0</td>\n      <td>0</td>\n      <td>42</td>\n      <td>8</td>\n      <td>159660.80</td>\n      <td>3</td>\n      <td>1</td>\n      <td>0</td>\n      <td>113931.57</td>\n    </tr>\n    <tr>\n      <th>3</th>\n      <td>699</td>\n      <td>0</td>\n      <td>0</td>\n      <td>39</td>\n      <td>1</td>\n      <td>0.00</td>\n      <td>2</td>\n      <td>0</td>\n      <td>0</td>\n      <td>93826.63</td>\n    </tr>\n    <tr>\n      <th>4</th>\n      <td>850</td>\n      <td>2</td>\n      <td>0</td>\n      <td>43</td>\n      <td>2</td>\n      <td>125510.82</td>\n      <td>1</td>\n      <td>1</td>\n      <td>1</td>\n      <td>79084.10</td>\n    </tr>\n  </tbody>\n</table>\n</div>",
      "text/plain": "   CreditScore  Geography  Gender  Age  Tenure    Balance  NumOfProducts  \\\n0          619          0       0   42       2       0.00              1   \n1          608          2       0   41       1   83807.86              1   \n2          502          0       0   42       8  159660.80              3   \n3          699          0       0   39       1       0.00              2   \n4          850          2       0   43       2  125510.82              1   \n\n   HasCrCard  IsActiveMember  EstimatedSalary  \n0          1               1        101348.88  \n1          0               1        112542.58  \n2          1               0        113931.57  \n3          0               0         93826.63  \n4          1               1         79084.10  "
     },
     "execution_count": 57,
     "metadata": {},
     "output_type": "execute_result"
    }
   ],
   "source": [
    "x.head()"
   ]
  },
  {
   "cell_type": "code",
   "execution_count": 58,
   "metadata": {},
   "outputs": [
    {
     "data": {
      "text/plain": "0    1\n1    0\n2    1\n3    0\n4    0\nName: Exited, dtype: int64"
     },
     "execution_count": 58,
     "metadata": {},
     "output_type": "execute_result"
    }
   ],
   "source": [
    "y.head()"
   ]
  },
  {
   "cell_type": "code",
   "execution_count": 61,
   "metadata": {},
   "outputs": [],
   "source": [
    "ohe = OHE(sparse=False, categorical_features= [1])\n",
    "x = ohe.fit_transform(x)"
   ]
  },
  {
   "cell_type": "code",
   "execution_count": 64,
   "metadata": {},
   "outputs": [
    {
     "data": {
      "text/plain": "array([[1.0000000e+00, 0.0000000e+00, 0.0000000e+00, ..., 1.0000000e+00,\n        1.0000000e+00, 1.0134888e+05],\n       [0.0000000e+00, 0.0000000e+00, 1.0000000e+00, ..., 0.0000000e+00,\n        1.0000000e+00, 1.1254258e+05],\n       [1.0000000e+00, 0.0000000e+00, 0.0000000e+00, ..., 1.0000000e+00,\n        0.0000000e+00, 1.1393157e+05],\n       ...,\n       [1.0000000e+00, 0.0000000e+00, 0.0000000e+00, ..., 0.0000000e+00,\n        1.0000000e+00, 4.2085580e+04],\n       [0.0000000e+00, 1.0000000e+00, 0.0000000e+00, ..., 1.0000000e+00,\n        0.0000000e+00, 9.2888520e+04],\n       [1.0000000e+00, 0.0000000e+00, 0.0000000e+00, ..., 1.0000000e+00,\n        0.0000000e+00, 3.8190780e+04]])"
     },
     "execution_count": 64,
     "metadata": {},
     "output_type": "execute_result"
    }
   ],
   "source": [
    "x"
   ]
  },
  {
   "cell_type": "code",
   "execution_count": 65,
   "metadata": {},
   "outputs": [
    {
     "data": {
      "text/html": "<div>\n<style scoped>\n    .dataframe tbody tr th:only-of-type {\n        vertical-align: middle;\n    }\n\n    .dataframe tbody tr th {\n        vertical-align: top;\n    }\n\n    .dataframe thead th {\n        text-align: right;\n    }\n</style>\n<table border=\"1\" class=\"dataframe\">\n  <thead>\n    <tr style=\"text-align: right;\">\n      <th></th>\n      <th>0</th>\n      <th>1</th>\n      <th>2</th>\n      <th>3</th>\n      <th>4</th>\n      <th>5</th>\n      <th>6</th>\n      <th>7</th>\n      <th>8</th>\n      <th>9</th>\n      <th>10</th>\n      <th>11</th>\n    </tr>\n  </thead>\n  <tbody>\n    <tr>\n      <th>0</th>\n      <td>1.0</td>\n      <td>0.0</td>\n      <td>0.0</td>\n      <td>619.0</td>\n      <td>0.0</td>\n      <td>42.0</td>\n      <td>2.0</td>\n      <td>0.00</td>\n      <td>1.0</td>\n      <td>1.0</td>\n      <td>1.0</td>\n      <td>101348.88</td>\n    </tr>\n    <tr>\n      <th>1</th>\n      <td>0.0</td>\n      <td>0.0</td>\n      <td>1.0</td>\n      <td>608.0</td>\n      <td>0.0</td>\n      <td>41.0</td>\n      <td>1.0</td>\n      <td>83807.86</td>\n      <td>1.0</td>\n      <td>0.0</td>\n      <td>1.0</td>\n      <td>112542.58</td>\n    </tr>\n    <tr>\n      <th>2</th>\n      <td>1.0</td>\n      <td>0.0</td>\n      <td>0.0</td>\n      <td>502.0</td>\n      <td>0.0</td>\n      <td>42.0</td>\n      <td>8.0</td>\n      <td>159660.80</td>\n      <td>3.0</td>\n      <td>1.0</td>\n      <td>0.0</td>\n      <td>113931.57</td>\n    </tr>\n    <tr>\n      <th>3</th>\n      <td>1.0</td>\n      <td>0.0</td>\n      <td>0.0</td>\n      <td>699.0</td>\n      <td>0.0</td>\n      <td>39.0</td>\n      <td>1.0</td>\n      <td>0.00</td>\n      <td>2.0</td>\n      <td>0.0</td>\n      <td>0.0</td>\n      <td>93826.63</td>\n    </tr>\n    <tr>\n      <th>4</th>\n      <td>0.0</td>\n      <td>0.0</td>\n      <td>1.0</td>\n      <td>850.0</td>\n      <td>0.0</td>\n      <td>43.0</td>\n      <td>2.0</td>\n      <td>125510.82</td>\n      <td>1.0</td>\n      <td>1.0</td>\n      <td>1.0</td>\n      <td>79084.10</td>\n    </tr>\n  </tbody>\n</table>\n</div>",
      "text/plain": "    0    1    2      3    4     5    6          7    8    9    10         11\n0  1.0  0.0  0.0  619.0  0.0  42.0  2.0       0.00  1.0  1.0  1.0  101348.88\n1  0.0  0.0  1.0  608.0  0.0  41.0  1.0   83807.86  1.0  0.0  1.0  112542.58\n2  1.0  0.0  0.0  502.0  0.0  42.0  8.0  159660.80  3.0  1.0  0.0  113931.57\n3  1.0  0.0  0.0  699.0  0.0  39.0  1.0       0.00  2.0  0.0  0.0   93826.63\n4  0.0  0.0  1.0  850.0  0.0  43.0  2.0  125510.82  1.0  1.0  1.0   79084.10"
     },
     "execution_count": 65,
     "metadata": {},
     "output_type": "execute_result"
    }
   ],
   "source": [
    "x_dummy = pd.DataFrame(x)\n",
    "x_dummy.head()"
   ]
  },
  {
   "cell_type": "code",
   "execution_count": 68,
   "metadata": {},
   "outputs": [
    {
     "data": {
      "text/html": "<div>\n<style scoped>\n    .dataframe tbody tr th:only-of-type {\n        vertical-align: middle;\n    }\n\n    .dataframe tbody tr th {\n        vertical-align: top;\n    }\n\n    .dataframe thead th {\n        text-align: right;\n    }\n</style>\n<table border=\"1\" class=\"dataframe\">\n  <thead>\n    <tr style=\"text-align: right;\">\n      <th></th>\n      <th>0</th>\n      <th>2</th>\n      <th>3</th>\n      <th>4</th>\n      <th>5</th>\n      <th>6</th>\n      <th>7</th>\n      <th>8</th>\n      <th>9</th>\n      <th>10</th>\n      <th>11</th>\n    </tr>\n  </thead>\n  <tbody>\n    <tr>\n      <th>0</th>\n      <td>1.0</td>\n      <td>0.0</td>\n      <td>619.0</td>\n      <td>0.0</td>\n      <td>42.0</td>\n      <td>2.0</td>\n      <td>0.00</td>\n      <td>1.0</td>\n      <td>1.0</td>\n      <td>1.0</td>\n      <td>101348.88</td>\n    </tr>\n    <tr>\n      <th>1</th>\n      <td>0.0</td>\n      <td>1.0</td>\n      <td>608.0</td>\n      <td>0.0</td>\n      <td>41.0</td>\n      <td>1.0</td>\n      <td>83807.86</td>\n      <td>1.0</td>\n      <td>0.0</td>\n      <td>1.0</td>\n      <td>112542.58</td>\n    </tr>\n    <tr>\n      <th>2</th>\n      <td>1.0</td>\n      <td>0.0</td>\n      <td>502.0</td>\n      <td>0.0</td>\n      <td>42.0</td>\n      <td>8.0</td>\n      <td>159660.80</td>\n      <td>3.0</td>\n      <td>1.0</td>\n      <td>0.0</td>\n      <td>113931.57</td>\n    </tr>\n    <tr>\n      <th>3</th>\n      <td>1.0</td>\n      <td>0.0</td>\n      <td>699.0</td>\n      <td>0.0</td>\n      <td>39.0</td>\n      <td>1.0</td>\n      <td>0.00</td>\n      <td>2.0</td>\n      <td>0.0</td>\n      <td>0.0</td>\n      <td>93826.63</td>\n    </tr>\n    <tr>\n      <th>4</th>\n      <td>0.0</td>\n      <td>1.0</td>\n      <td>850.0</td>\n      <td>0.0</td>\n      <td>43.0</td>\n      <td>2.0</td>\n      <td>125510.82</td>\n      <td>1.0</td>\n      <td>1.0</td>\n      <td>1.0</td>\n      <td>79084.10</td>\n    </tr>\n  </tbody>\n</table>\n</div>",
      "text/plain": "    0    2      3    4     5    6          7    8    9    10         11\n0  1.0  0.0  619.0  0.0  42.0  2.0       0.00  1.0  1.0  1.0  101348.88\n1  0.0  1.0  608.0  0.0  41.0  1.0   83807.86  1.0  0.0  1.0  112542.58\n2  1.0  0.0  502.0  0.0  42.0  8.0  159660.80  3.0  1.0  0.0  113931.57\n3  1.0  0.0  699.0  0.0  39.0  1.0       0.00  2.0  0.0  0.0   93826.63\n4  0.0  1.0  850.0  0.0  43.0  2.0  125510.82  1.0  1.0  1.0   79084.10"
     },
     "execution_count": 68,
     "metadata": {},
     "output_type": "execute_result"
    }
   ],
   "source": [
    "x_dummy = x_dummy.drop(labels=[1],axis=1)\n",
    "x_dummy.head()"
   ]
  },
  {
   "cell_type": "code",
   "execution_count": 71,
   "metadata": {},
   "outputs": [
    {
     "data": {
      "text/plain": "array([[ 0.99720391, -0.57380915, -0.32622142, ...,  0.64609167,\n         0.97024255,  0.02188649],\n       [-1.00280393,  1.74273971, -0.44003595, ..., -1.54776799,\n         0.97024255,  0.21653375],\n       [ 0.99720391, -0.57380915, -1.53679418, ...,  0.64609167,\n        -1.03067011,  0.2406869 ],\n       ...,\n       [ 0.99720391, -0.57380915,  0.60498839, ..., -1.54776799,\n         0.97024255, -1.00864308],\n       [-1.00280393, -0.57380915,  1.25683526, ...,  0.64609167,\n        -1.03067011, -0.12523071],\n       [ 0.99720391, -0.57380915,  1.46377078, ...,  0.64609167,\n        -1.03067011, -1.07636976]])"
     },
     "execution_count": 71,
     "metadata": {},
     "output_type": "execute_result"
    }
   ],
   "source": [
    "from sklearn.preprocessing import StandardScaler as SS\n",
    "Scaler = SS()\n",
    "x_scaled = Scaler.fit_transform(x_dummy)\n",
    "x_scaled"
   ]
  },
  {
   "cell_type": "code",
   "execution_count": 72,
   "metadata": {},
   "outputs": [
    {
     "data": {
      "text/plain": "0       1\n1       0\n2       1\n3       0\n4       0\n5       1\n6       0\n7       1\n8       0\n9       0\n10      0\n11      0\n12      0\n13      0\n14      0\n15      0\n16      1\n17      0\n18      0\n19      0\n20      0\n21      0\n22      1\n23      0\n24      0\n25      0\n26      0\n27      0\n28      0\n29      0\n       ..\n9970    0\n9971    0\n9972    0\n9973    0\n9974    0\n9975    1\n9976    0\n9977    0\n9978    0\n9979    0\n9980    0\n9981    1\n9982    1\n9983    0\n9984    0\n9985    0\n9986    0\n9987    0\n9988    0\n9989    0\n9990    0\n9991    1\n9992    0\n9993    0\n9994    0\n9995    0\n9996    0\n9997    1\n9998    1\n9999    0\nName: Exited, Length: 10000, dtype: int64"
     },
     "execution_count": 72,
     "metadata": {},
     "output_type": "execute_result"
    }
   ],
   "source": [
    "y"
   ]
  },
  {
   "cell_type": "code",
   "execution_count": 73,
   "metadata": {},
   "outputs": [],
   "source": [
    "from sklearn.model_selection import train_test_split\n",
    "x_train, x_test, y_train, y_test = train_test_split(x_scaled, y, random_state=42, test_size = 0.2)"
   ]
  },
  {
   "cell_type": "code",
   "execution_count": 74,
   "metadata": {},
   "outputs": [
    {
     "data": {
      "text/plain": "LogisticRegression(C=1.0, class_weight=None, dual=False, fit_intercept=True,\n          intercept_scaling=1, max_iter=100, multi_class='warn',\n          n_jobs=None, penalty='l2', random_state=None, solver='warn',\n          tol=0.0001, verbose=0, warm_start=False)"
     },
     "execution_count": 74,
     "metadata": {},
     "output_type": "execute_result"
    }
   ],
   "source": [
    "from sklearn.linear_model import LogisticRegression as LR\n",
    "regressor = LR()\n",
    "regressor.fit(x_train,y_train)"
   ]
  },
  {
   "cell_type": "code",
   "execution_count": 85,
   "metadata": {},
   "outputs": [
    {
     "data": {
      "text/plain": "0.811375"
     },
     "execution_count": 85,
     "metadata": {},
     "output_type": "execute_result"
    }
   ],
   "source": [
    "regressor.score(x_train,y_train)"
   ]
  },
  {
   "cell_type": "code",
   "execution_count": 86,
   "metadata": {},
   "outputs": [],
   "source": [
    "y_pred = regressor.predict(x_test)"
   ]
  },
  {
   "cell_type": "code",
   "execution_count": 87,
   "metadata": {},
   "outputs": [
    {
     "data": {
      "text/plain": "array([[1543,   64],\n       [ 314,   79]], dtype=int64)"
     },
     "execution_count": 87,
     "metadata": {},
     "output_type": "execute_result"
    }
   ],
   "source": [
    "from sklearn.metrics import confusion_matrix\n",
    "cm = confusion_matrix(y_test,y_pred)\n",
    "cm"
   ]
  },
  {
   "cell_type": "code",
   "execution_count": 88,
   "metadata": {},
   "outputs": [
    {
     "name": "stdout",
     "output_type": "stream",
     "text": "0.811\n"
    }
   ],
   "source": [
    "print((1543 + 79)/2000)"
   ]
  },
  {
   "cell_type": "code",
   "execution_count": 89,
   "metadata": {},
   "outputs": [
    {
     "data": {
      "text/plain": "KNeighborsClassifier(algorithm='auto', leaf_size=30, metric='minkowski',\n           metric_params=None, n_jobs=None, n_neighbors=5, p=2,\n           weights='uniform')"
     },
     "execution_count": 89,
     "metadata": {},
     "output_type": "execute_result"
    }
   ],
   "source": [
    "from sklearn.neighbors import KNeighborsClassifier\n",
    "regressorknn = KNeighborsClassifier()\n",
    "regressorknn.fit(x_test,y_test)"
   ]
  },
  {
   "cell_type": "code",
   "execution_count": 90,
   "metadata": {},
   "outputs": [
    {
     "data": {
      "text/plain": "0.82075"
     },
     "execution_count": 90,
     "metadata": {},
     "output_type": "execute_result"
    }
   ],
   "source": [
    "regressorknn.score(x_train,y_train)"
   ]
  },
  {
   "cell_type": "code",
   "execution_count": 91,
   "metadata": {},
   "outputs": [],
   "source": [
    "y_knn = regressorknn.predict(x_test)"
   ]
  },
  {
   "cell_type": "code",
   "execution_count": 92,
   "metadata": {},
   "outputs": [
    {
     "data": {
      "text/plain": "array([[1565,   42],\n       [ 223,  170]], dtype=int64)"
     },
     "execution_count": 92,
     "metadata": {},
     "output_type": "execute_result"
    }
   ],
   "source": [
    "cm_knn = confusion_matrix(y_test,y_knn)\n",
    "cm_knn"
   ]
  },
  {
   "cell_type": "code",
   "execution_count": 93,
   "metadata": {},
   "outputs": [
    {
     "name": "stdout",
     "output_type": "stream",
     "text": "0.8675\n"
    }
   ],
   "source": [
    "print((1565 + 170)/2000)"
   ]
  },
  {
   "cell_type": "code",
   "execution_count": 94,
   "metadata": {},
   "outputs": [
    {
     "data": {
      "text/plain": "SVC(C=1.0, cache_size=200, class_weight=None, coef0=0.0,\n  decision_function_shape='ovr', degree=3, gamma='auto_deprecated',\n  kernel='rbf', max_iter=-1, probability=False, random_state=None,\n  shrinking=True, tol=0.001, verbose=False)"
     },
     "execution_count": 94,
     "metadata": {},
     "output_type": "execute_result"
    }
   ],
   "source": [
    "from sklearn.svm import SVC\n",
    "regressorsvc = SVC()\n",
    "regressorsvc.fit(x_train,y_train)"
   ]
  },
  {
   "cell_type": "code",
   "execution_count": 95,
   "metadata": {},
   "outputs": [
    {
     "data": {
      "text/plain": "0.864"
     },
     "execution_count": 95,
     "metadata": {},
     "output_type": "execute_result"
    }
   ],
   "source": [
    "regressorsvc.score(x_train,y_train)"
   ]
  },
  {
   "cell_type": "code",
   "execution_count": 96,
   "metadata": {},
   "outputs": [
    {
     "data": {
      "text/plain": "array([[1569,   38],\n       [ 246,  147]], dtype=int64)"
     },
     "execution_count": 96,
     "metadata": {},
     "output_type": "execute_result"
    }
   ],
   "source": [
    "y_svc = regressorsvc.predict(x_test)\n",
    "cm_svc = confusion_matrix(y_test,y_svc)\n",
    "cm_svc"
   ]
  },
  {
   "cell_type": "code",
   "execution_count": 97,
   "metadata": {},
   "outputs": [
    {
     "name": "stdout",
     "output_type": "stream",
     "text": "0.858\n"
    }
   ],
   "source": [
    "print((1569 + 147)/2000)"
   ]
  },
  {
   "cell_type": "code",
   "execution_count": 100,
   "metadata": {},
   "outputs": [
    {
     "data": {
      "text/plain": "GaussianNB(priors=None, var_smoothing=1e-09)"
     },
     "execution_count": 100,
     "metadata": {},
     "output_type": "execute_result"
    }
   ],
   "source": [
    "from sklearn.naive_bayes import GaussianNB\n",
    "regressornvb = GaussianNB()\n",
    "regressornvb.fit(x_train,y_train)"
   ]
  },
  {
   "cell_type": "code",
   "execution_count": 101,
   "metadata": {},
   "outputs": [
    {
     "data": {
      "text/plain": "0.831625"
     },
     "execution_count": 101,
     "metadata": {},
     "output_type": "execute_result"
    }
   ],
   "source": [
    "regressornvb.score(x_train,y_train)"
   ]
  },
  {
   "cell_type": "code",
   "execution_count": 102,
   "metadata": {},
   "outputs": [],
   "source": [
    "y_nvb = regressornvb.predict(x_test)"
   ]
  },
  {
   "cell_type": "code",
   "execution_count": 103,
   "metadata": {},
   "outputs": [
    {
     "data": {
      "text/plain": "array([[1561,   46],\n       [ 288,  105]], dtype=int64)"
     },
     "execution_count": 103,
     "metadata": {},
     "output_type": "execute_result"
    }
   ],
   "source": [
    "cm_nvb = confusion_matrix(y_test,y_nvb)\n",
    "cm_nvb"
   ]
  },
  {
   "cell_type": "code",
   "execution_count": 104,
   "metadata": {},
   "outputs": [
    {
     "name": "stdout",
     "output_type": "stream",
     "text": "0.833\n"
    }
   ],
   "source": [
    "print((1561 + 105)/2000)"
   ]
  },
  {
   "cell_type": "code",
   "execution_count": 105,
   "metadata": {},
   "outputs": [
    {
     "data": {
      "text/plain": "DecisionTreeClassifier(class_weight=None, criterion='gini', max_depth=None,\n            max_features=None, max_leaf_nodes=None,\n            min_impurity_decrease=0.0, min_impurity_split=None,\n            min_samples_leaf=1, min_samples_split=2,\n            min_weight_fraction_leaf=0.0, presort=False, random_state=None,\n            splitter='best')"
     },
     "execution_count": 105,
     "metadata": {},
     "output_type": "execute_result"
    }
   ],
   "source": [
    "from sklearn.tree import DecisionTreeClassifier\n",
    "regressorTree = DecisionTreeClassifier()\n",
    "regressorTree.fit(x_train,y_train)"
   ]
  },
  {
   "cell_type": "code",
   "execution_count": 107,
   "metadata": {},
   "outputs": [
    {
     "data": {
      "text/plain": "1.0"
     },
     "execution_count": 107,
     "metadata": {},
     "output_type": "execute_result"
    }
   ],
   "source": [
    "regressorTree.score(x_train,y_train)"
   ]
  },
  {
   "cell_type": "code",
   "execution_count": 108,
   "metadata": {},
   "outputs": [
    {
     "data": {
      "text/plain": "array([[1358,  249],\n       [ 189,  204]], dtype=int64)"
     },
     "execution_count": 108,
     "metadata": {},
     "output_type": "execute_result"
    }
   ],
   "source": [
    "y_dec = regressorTree.predict(x_test)\n",
    "cm_tree = confusion_matrix(y_test,y_dec)\n",
    "cm_tree"
   ]
  },
  {
   "cell_type": "code",
   "execution_count": 109,
   "metadata": {},
   "outputs": [
    {
     "name": "stdout",
     "output_type": "stream",
     "text": "0.781\n"
    }
   ],
   "source": [
    "print((1358 + 204)/2000)"
   ]
  },
  {
   "cell_type": "code",
   "execution_count": 110,
   "metadata": {},
   "outputs": [
    {
     "data": {
      "text/plain": "RandomForestClassifier(bootstrap=True, class_weight=None, criterion='gini',\n            max_depth=None, max_features='auto', max_leaf_nodes=None,\n            min_impurity_decrease=0.0, min_impurity_split=None,\n            min_samples_leaf=1, min_samples_split=2,\n            min_weight_fraction_leaf=0.0, n_estimators=10, n_jobs=None,\n            oob_score=False, random_state=None, verbose=0,\n            warm_start=False)"
     },
     "execution_count": 110,
     "metadata": {},
     "output_type": "execute_result"
    }
   ],
   "source": [
    "from sklearn.ensemble import RandomForestClassifier\n",
    "regressorforest = RandomForestClassifier()\n",
    "regressorforest.fit(x_train,y_train)"
   ]
  },
  {
   "cell_type": "code",
   "execution_count": 111,
   "metadata": {},
   "outputs": [
    {
     "data": {
      "text/plain": "0.983125"
     },
     "execution_count": 111,
     "metadata": {},
     "output_type": "execute_result"
    }
   ],
   "source": [
    "regressorforest.score(x_train,y_train)"
   ]
  },
  {
   "cell_type": "code",
   "execution_count": 112,
   "metadata": {},
   "outputs": [
    {
     "data": {
      "text/plain": "array([[1540,   67],\n       [ 234,  159]], dtype=int64)"
     },
     "execution_count": 112,
     "metadata": {},
     "output_type": "execute_result"
    }
   ],
   "source": [
    "y_forest = regressorforest.predict(x_test)\n",
    "cm_forest = confusion_matrix(y_test,y_forest)\n",
    "cm_forest"
   ]
  },
  {
   "cell_type": "code",
   "execution_count": 113,
   "metadata": {},
   "outputs": [
    {
     "name": "stdout",
     "output_type": "stream",
     "text": "0.8495\n"
    }
   ],
   "source": [
    "print((1540 + 159)/2000)"
   ]
  },
  {
   "cell_type": "markdown",
   "metadata": {},
   "source": [
    "Making ANN"
   ]
  },
  {
   "cell_type": "code",
   "execution_count": 115,
   "metadata": {},
   "outputs": [
    {
     "name": "stderr",
     "output_type": "stream",
     "text": "Using TensorFlow backend.\n"
    }
   ],
   "source": [
    "import keras"
   ]
  },
  {
   "cell_type": "code",
   "execution_count": 116,
   "metadata": {},
   "outputs": [],
   "source": [
    "from keras.models import Sequential\n",
    "from keras.layers import Dense"
   ]
  },
  {
   "cell_type": "code",
   "execution_count": 117,
   "metadata": {},
   "outputs": [],
   "source": [
    "classifier = Sequential()"
   ]
  },
  {
   "cell_type": "code",
   "execution_count": 118,
   "metadata": {},
   "outputs": [],
   "source": [
    "classifier.add(Dense(units=40, activation=\"relu\", input_dim = 11))\n",
    "classifier.add(Dense(units=40, activation=\"relu\"))\n",
    "classifier.add(Dense(units=40, activation=\"relu\"))\n",
    "classifier.add(Dense(units=1, activation=\"sigmoid\"))"
   ]
  },
  {
   "cell_type": "code",
   "execution_count": 119,
   "metadata": {},
   "outputs": [
    {
     "name": "stdout",
     "output_type": "stream",
     "text": "WARNING:tensorflow:From C:\\ProgramData\\Anaconda3\\lib\\site-packages\\tensorflow\\python\\ops\\nn_impl.py:180: add_dispatch_support.<locals>.wrapper (from tensorflow.python.ops.array_ops) is deprecated and will be removed in a future version.\nInstructions for updating:\nUse tf.where in 2.0, which has the same broadcast rule as np.where\n"
    }
   ],
   "source": [
    "classifier.compile(optimizer=\"adam\", loss=\"binary_crossentropy\", metrics= [\"accuracy\"])"
   ]
  },
  {
   "cell_type": "code",
   "execution_count": 120,
   "metadata": {},
   "outputs": [
    {
     "name": "stdout",
     "output_type": "stream",
     "text": "WARNING:tensorflow:From C:\\ProgramData\\Anaconda3\\lib\\site-packages\\keras\\backend\\tensorflow_backend.py:422: The name tf.global_variables is deprecated. Please use tf.compat.v1.global_variables instead.\n\nEpoch 1/100\n8000/8000 [==============================] - 3s 383us/step - loss: 0.4647 - accuracy: 0.7914\nEpoch 2/100\n8000/8000 [==============================] - 1s 80us/step - loss: 0.3734 - accuracy: 0.8447\nEpoch 3/100\n8000/8000 [==============================] - 1s 97us/step - loss: 0.3492 - accuracy: 0.8568\nEpoch 4/100\n8000/8000 [==============================] - 1s 122us/step - loss: 0.3422 - accuracy: 0.8584\nEpoch 5/100\n8000/8000 [==============================] - 1s 91us/step - loss: 0.3377 - accuracy: 0.8597\nEpoch 6/100\n8000/8000 [==============================] - 1s 106us/step - loss: 0.3339 - accuracy: 0.8654\nEpoch 7/100\n8000/8000 [==============================] - 1s 124us/step - loss: 0.3302 - accuracy: 0.8658\nEpoch 8/100\n8000/8000 [==============================] - 1s 102us/step - loss: 0.3269 - accuracy: 0.8643\nEpoch 9/100\n8000/8000 [==============================] - 1s 102us/step - loss: 0.3254 - accuracy: 0.8666\nEpoch 10/100\n8000/8000 [==============================] - 1s 101us/step - loss: 0.3225 - accuracy: 0.8673\nEpoch 11/100\n8000/8000 [==============================] - 1s 106us/step - loss: 0.3197 - accuracy: 0.8687\nEpoch 12/100\n8000/8000 [==============================] - 1s 103us/step - loss: 0.3176 - accuracy: 0.8685\nEpoch 13/100\n8000/8000 [==============================] - 1s 112us/step - loss: 0.3167 - accuracy: 0.8691\nEpoch 14/100\n8000/8000 [==============================] - 1s 99us/step - loss: 0.3142 - accuracy: 0.8699\nEpoch 15/100\n8000/8000 [==============================] - 1s 98us/step - loss: 0.3133 - accuracy: 0.8720\nEpoch 16/100\n8000/8000 [==============================] - 1s 90us/step - loss: 0.3095 - accuracy: 0.8706\nEpoch 17/100\n8000/8000 [==============================] - 1s 97us/step - loss: 0.3081 - accuracy: 0.8709\nEpoch 18/100\n8000/8000 [==============================] - 1s 97us/step - loss: 0.3065 - accuracy: 0.8724\nEpoch 19/100\n8000/8000 [==============================] - 1s 101us/step - loss: 0.3037 - accuracy: 0.8749\nEpoch 20/100\n8000/8000 [==============================] - 1s 102us/step - loss: 0.3037 - accuracy: 0.8741\nEpoch 21/100\n7936/8000 [============================>.] - ETA: 0s - loss: 0.3007 - accuracy: 0.878000/8000 [==============================] - 1s 100us/step - loss: 0.3009 - accuracy: 0.8770\nEpoch 22/100\n8000/8000 [==============================] - 1s 97us/step - loss: 0.2989 - accuracy: 0.8759\nEpoch 23/100\n8000/8000 [==============================] - 1s 98us/step - loss: 0.2999 - accuracy: 0.8751\nEpoch 24/100\n8000/8000 [==============================] - 1s 85us/step - loss: 0.2968 - accuracy: 0.8774\nEpoch 25/100\n8000/8000 [==============================] - 1s 86us/step - loss: 0.2941 - accuracy: 0.8775\nEpoch 26/100\n8000/8000 [==============================] - 1s 99us/step - loss: 0.2938 - accuracy: 0.8761\nEpoch 27/100\n8000/8000 [==============================] - 1s 117us/step - loss: 0.2914 - accuracy: 0.8798\nEpoch 28/100\n8000/8000 [==============================] - 1s 98us/step - loss: 0.2907 - accuracy: 0.8759\nEpoch 29/100\n8000/8000 [==============================] - 1s 90us/step - loss: 0.2868 - accuracy: 0.8799\nEpoch 30/100\n8000/8000 [==============================] - 1s 88us/step - loss: 0.2857 - accuracy: 0.8798\nEpoch 31/100\n8000/8000 [==============================] - 1s 85us/step - loss: 0.2846 - accuracy: 0.8795\nEpoch 32/100\n8000/8000 [==============================] - 1s 123us/step - loss: 0.2836 - accuracy: 0.8815\nEpoch 33/100\n8000/8000 [==============================] - 1s 142us/step - loss: 0.2806 - accuracy: 0.8823\nEpoch 34/100\n8000/8000 [==============================] - 1s 146us/step - loss: 0.2813 - accuracy: 0.8830\nEpoch 35/100\n8000/8000 [==============================] - 1s 101us/step - loss: 0.2779 - accuracy: 0.8825\nEpoch 36/100\n8000/8000 [==============================] - 1s 97us/step - loss: 0.2752 - accuracy: 0.8840\nEpoch 37/100\n8000/8000 [==============================] - 1s 96us/step - loss: 0.2737 - accuracy: 0.8856\nEpoch 38/100\n8000/8000 [==============================] - 1s 104us/step - loss: 0.2711 - accuracy: 0.8851\nEpoch 39/100\n8000/8000 [==============================] - 1s 116us/step - loss: 0.2694 - accuracy: 0.8867\nEpoch 40/100\n8000/8000 [==============================] - 1s 96us/step - loss: 0.2705 - accuracy: 0.8855\nEpoch 41/100\n8000/8000 [==============================] - 1s 105us/step - loss: 0.2663 - accuracy: 0.8864\nEpoch 42/100\n8000/8000 [==============================] - 1s 102us/step - loss: 0.2658 - accuracy: 0.8876\nEpoch 43/100\n8000/8000 [==============================] - 1s 130us/step - loss: 0.2628 - accuracy: 0.8891\nEpoch 44/100\n8000/8000 [==============================] - 1s 90us/step - loss: 0.2639 - accuracy: 0.8892\nEpoch 45/100\n8000/8000 [==============================] - 1s 90us/step - loss: 0.2604 - accuracy: 0.8895\nEpoch 46/100\n8000/8000 [==============================] - 1s 83us/step - loss: 0.2581 - accuracy: 0.8894\nEpoch 47/100\n8000/8000 [==============================] - 1s 94us/step - loss: 0.2564 - accuracy: 0.8931\nEpoch 48/100\n8000/8000 [==============================] - 1s 106us/step - loss: 0.2539 - accuracy: 0.8934\nEpoch 49/100\n8000/8000 [==============================] - 1s 93us/step - loss: 0.2537 - accuracy: 0.8930\nEpoch 50/100\n8000/8000 [==============================] - 1s 88us/step - loss: 0.2509 - accuracy: 0.8919\nEpoch 51/100\n8000/8000 [==============================] - 1s 89us/step - loss: 0.2537 - accuracy: 0.8921\nEpoch 52/100\n8000/8000 [==============================] - 1s 89us/step - loss: 0.2470 - accuracy: 0.8935\nEpoch 53/100\n8000/8000 [==============================] - 1s 90us/step - loss: 0.2471 - accuracy: 0.8951\nEpoch 54/100\n8000/8000 [==============================] - 1s 88us/step - loss: 0.2465 - accuracy: 0.8966\nEpoch 55/100\n8000/8000 [==============================] - 1s 86us/step - loss: 0.2454 - accuracy: 0.8981\nEpoch 56/100\n8000/8000 [==============================] - 1s 94us/step - loss: 0.2449 - accuracy: 0.8972\nEpoch 57/100\n7904/8000 [============================>.] - ETA: 0s - loss: 0.2437 - accuracy: 0.898000/8000 [==============================] - 1s 93us/step - loss: 0.2423 - accuracy: 0.8985\nEpoch 58/100\n8000/8000 [==============================] - 1s 92us/step - loss: 0.2391 - accuracy: 0.8994\nEpoch 59/100\n8000/8000 [==============================] - 1s 91us/step - loss: 0.2386 - accuracy: 0.8990\nEpoch 60/100\n8000/8000 [==============================] - 1s 87us/step - loss: 0.2388 - accuracy: 0.8972\nEpoch 61/100\n8000/8000 [==============================] - 1s 103us/step - loss: 0.2373 - accuracy: 0.8988\nEpoch 62/100\n8000/8000 [==============================] - 1s 94us/step - loss: 0.2344 - accuracy: 0.9004\nEpoch 63/100\n8000/8000 [==============================] - 1s 96us/step - loss: 0.2335 - accuracy: 0.9016\nEpoch 64/100\n8000/8000 [==============================] - 1s 148us/step - loss: 0.2327 - accuracy: 0.8991\nEpoch 65/100\n8000/8000 [==============================] - 1s 129us/step - loss: 0.2302 - accuracy: 0.9005\nEpoch 66/100\n8000/8000 [==============================] - 1s 107us/step - loss: 0.2286 - accuracy: 0.9032\nEpoch 67/100\n8000/8000 [==============================] - 1s 92us/step - loss: 0.2292 - accuracy: 0.9003\nEpoch 68/100\n8000/8000 [==============================] - 1s 91us/step - loss: 0.2283 - accuracy: 0.9036\nEpoch 69/100\n8000/8000 [==============================] - 1s 87us/step - loss: 0.2254 - accuracy: 0.9040\nEpoch 70/100\n8000/8000 [==============================] - 1s 99us/step - loss: 0.2258 - accuracy: 0.9046\nEpoch 71/100\n8000/8000 [==============================] - 1s 90us/step - loss: 0.2213 - accuracy: 0.9074\nEpoch 72/100\n8000/8000 [==============================] - 1s 107us/step - loss: 0.2257 - accuracy: 0.9061\nEpoch 73/100\n8000/8000 [==============================] - 1s 89us/step - loss: 0.2220 - accuracy: 0.9086\nEpoch 74/100\n8000/8000 [==============================] - 1s 88us/step - loss: 0.2219 - accuracy: 0.9065\nEpoch 75/100\n7712/8000 [===========================>..] - ETA: 0s - loss: 0.2182 - accuracy: 0.908000/8000 [==============================] - 1s 94us/step - loss: 0.2180 - accuracy: 0.9053\nEpoch 76/100\n8000/8000 [==============================] - 1s 89us/step - loss: 0.2178 - accuracy: 0.9076\nEpoch 77/100\n8000/8000 [==============================] - 1s 92us/step - loss: 0.2181 - accuracy: 0.9072\nEpoch 78/100\n8000/8000 [==============================] - 1s 86us/step - loss: 0.2164 - accuracy: 0.9076\nEpoch 79/100\n8000/8000 [==============================] - 1s 88us/step - loss: 0.2166 - accuracy: 0.9082\nEpoch 80/100\n8000/8000 [==============================] - 1s 97us/step - loss: 0.2130 - accuracy: 0.9120\nEpoch 81/100\n8000/8000 [==============================] - 1s 96us/step - loss: 0.2118 - accuracy: 0.9115\nEpoch 82/100\n8000/8000 [==============================] - 1s 164us/step - loss: 0.2098 - accuracy: 0.9109\nEpoch 83/100\n8000/8000 [==============================] - 1s 132us/step - loss: 0.2114 - accuracy: 0.9090\nEpoch 84/100\n8000/8000 [==============================] - 1s 82us/step - loss: 0.2086 - accuracy: 0.9122\nEpoch 85/100\n8000/8000 [==============================] - 1s 95us/step - loss: 0.2066 - accuracy: 0.9133\nEpoch 86/100\n8000/8000 [==============================] - 1s 88us/step - loss: 0.2070 - accuracy: 0.9126\nEpoch 87/100\n8000/8000 [==============================] - 1s 93us/step - loss: 0.2049 - accuracy: 0.9155\nEpoch 88/100\n8000/8000 [==============================] - 1s 96us/step - loss: 0.2049 - accuracy: 0.9139\nEpoch 89/100\n8000/8000 [==============================] - 1s 89us/step - loss: 0.2057 - accuracy: 0.9112\nEpoch 90/100\n8000/8000 [==============================] - 1s 80us/step - loss: 0.2045 - accuracy: 0.9122\nEpoch 91/100\n8000/8000 [==============================] - 1s 88us/step - loss: 0.2034 - accuracy: 0.9147\nEpoch 92/100\n8000/8000 [==============================] - 1s 84us/step - loss: 0.2022 - accuracy: 0.9171\nEpoch 93/100\n8000/8000 [==============================] - 1s 77us/step - loss: 0.2003 - accuracy: 0.9129\nEpoch 94/100\n8000/8000 [==============================] - 1s 84us/step - loss: 0.1974 - accuracy: 0.9172\nEpoch 95/100\n8000/8000 [==============================] - 1s 83us/step - loss: 0.1979 - accuracy: 0.9187\nEpoch 96/100\n8000/8000 [==============================] - 1s 83us/step - loss: 0.1993 - accuracy: 0.9134\nEpoch 97/100\n8000/8000 [==============================] - 1s 81us/step - loss: 0.1954 - accuracy: 0.9154\nEpoch 98/100\n8000/8000 [==============================] - 1s 83us/step - loss: 0.1963 - accuracy: 0.9158\nEpoch 99/100\n8000/8000 [==============================] - 1s 84us/step - loss: 0.1936 - accuracy: 0.9200\nEpoch 100/100\n8000/8000 [==============================] - 1s 86us/step - loss: 0.1912 - accuracy: 0.9194\n"
    },
    {
     "data": {
      "text/plain": "<keras.callbacks.callbacks.History at 0x17fee96c668>"
     },
     "execution_count": 120,
     "metadata": {},
     "output_type": "execute_result"
    }
   ],
   "source": [
    "classifier.fit(x_train, y_train, batch_size = 32, epochs = 100)"
   ]
  },
  {
   "cell_type": "code",
   "execution_count": 122,
   "metadata": {},
   "outputs": [
    {
     "data": {
      "text/plain": "array([[1486,  121],\n       [ 215,  178]], dtype=int64)"
     },
     "execution_count": 122,
     "metadata": {},
     "output_type": "execute_result"
    }
   ],
   "source": [
    "y_ann = classifier.predict(x_test)\n",
    "y_ann = (y_ann > 0.5)\n",
    "cm_ann = confusion_matrix(y_test,y_ann)\n",
    "cm_ann"
   ]
  },
  {
   "cell_type": "code",
   "execution_count": 123,
   "metadata": {},
   "outputs": [
    {
     "name": "stdout",
     "output_type": "stream",
     "text": "0.832\n"
    }
   ],
   "source": [
    "print((1486 + 178)/2000)"
   ]
  },
  {
   "cell_type": "code",
   "execution_count": null,
   "metadata": {},
   "outputs": [],
   "source": []
  }
 ]
}